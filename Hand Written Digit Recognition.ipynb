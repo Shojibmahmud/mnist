{
 "cells": [
  {
   "cell_type": "markdown",
   "metadata": {
    "slideshow": {
     "slide_type": "slide"
    }
   },
   "source": [
    "# Recognition of handwritten digit: A neural network approach\n",
    "\n",
    "Handwritten digit recognition is a good first-lesson on image recognition for beginners.\n",
    "<br />  \n",
    "The MNIST dataset consists 60000 training examples and 10000 test examples, of digits 0-9, can be downloaded from [Yann Lecun's website](http://yann.lecun.com/exdb/mnist/).\n",
    "<br />  \n",
    "In this project we will:\n",
    "\n",
    "- Implement a 2-layer neural network.\n",
    "- Compute the forward pass and backward pass with svm loss.\n",
    "- Use the normlizaiton to help network converge.\n",
    "- Use a stochastic gradient descent to optimize the loss function."
   ]
  },
  {
   "cell_type": "code",
   "execution_count": 1,
   "metadata": {
    "slideshow": {
     "slide_type": "subslide"
    }
   },
   "outputs": [],
   "source": [
    "from data_utils import loadMNIST\n",
    "\n",
    "from __future__ import print_function\n",
    "from two_layer_net import *\n",
    "from three_layer_net import *\n",
    "\n",
    "import matplotlib.pyplot as plt\n",
    "import numpy as np\n",
    "%matplotlib inline\n",
    "plt.rcParams['figure.figsize'] = (8.0, 6.0) # set default size of plots\n",
    "plt.rcParams['image.interpolation'] = 'nearest'\n",
    "plt.rcParams['image.cmap'] = 'gray'\n",
    "\n",
    "# Some more magic so that the notebook will reload external python modules;\n",
    "# see http://stackoverflow.com/questions/1907993/autoreload-of-modules-in-ipython\n",
    "%load_ext autoreload\n",
    "%autoreload 2"
   ]
  },
  {
   "cell_type": "markdown",
   "metadata": {
    "slideshow": {
     "slide_type": "subslide"
    }
   },
   "source": [
    "# Load the data\n",
    "Load the MNIST data to train a neural network. The data is located at `'dataset/'` directory, you should download the 4 ubyte files from [Yann Lecun's website](http://yann.lecun.com/exdb/mnist/) and unextract it in the right directory before loading. Dataset directory may vary when you change the location of you project folder, or use a different operating system. Make sure to modify `data_utils.py` when you change the dataset location."
   ]
  },
  {
   "cell_type": "code",
   "execution_count": 2,
   "metadata": {
    "scrolled": false,
    "slideshow": {
     "slide_type": "subslide"
    }
   },
   "outputs": [
    {
     "name": "stdout",
     "output_type": "stream",
     "text": [
      "Loaded training images of shape: (60000, 28, 28)\n",
      "Loaded training labels of shape: (60000,)\n",
      "Loaded test images of shape (10000, 28, 28)\n",
      "Loaded test labels of shape (10000,)\n"
     ]
    }
   ],
   "source": [
    "X_train, y_train = loadMNIST(dataset=\"training\", num_image=60000)\n",
    "X_test, y_test = loadMNIST(dataset=\"test\", num_image=10000)\n",
    "\n",
    "print(\"Loaded training images of shape:\", X_train.shape)\n",
    "print(\"Loaded training labels of shape:\", y_train.shape)\n",
    "print(\"Loaded test images of shape\", X_test.shape)\n",
    "print(\"Loaded test labels of shape\", y_test.shape)"
   ]
  },
  {
   "cell_type": "markdown",
   "metadata": {
    "slideshow": {
     "slide_type": "subslide"
    }
   },
   "source": [
    "# Show some random images\n",
    "Show some random images to get a gut feeling of how the data looks like.\n",
    "Make sure `row * col` is less than the size of training set example number.\n",
    "To adjust the size of plot size, just modify: `plt.rcParams['figure.figsize']` on the first code block."
   ]
  },
  {
   "cell_type": "code",
   "execution_count": 50,
   "metadata": {
    "scrolled": true,
    "slideshow": {
     "slide_type": "subslide"
    }
   },
   "outputs": [
    {
     "ename": "IndexError",
     "evalue": "too many indices for array",
     "output_type": "error",
     "traceback": [
      "\u001b[0;31m---------------------------------------------------------------------------\u001b[0m",
      "\u001b[0;31mIndexError\u001b[0m                                Traceback (most recent call last)",
      "\u001b[0;32m<ipython-input-50-c3ff72b10506>\u001b[0m in \u001b[0;36m<module>\u001b[0;34m()\u001b[0m\n\u001b[1;32m      6\u001b[0m         \u001b[0mplt\u001b[0m\u001b[0;34m.\u001b[0m\u001b[0msubplot\u001b[0m\u001b[0;34m(\u001b[0m\u001b[0mrow\u001b[0m\u001b[0;34m,\u001b[0m \u001b[0mcol\u001b[0m\u001b[0;34m,\u001b[0m \u001b[0mi\u001b[0m\u001b[0;34m*\u001b[0m\u001b[0mcol\u001b[0m\u001b[0;34m+\u001b[0m\u001b[0mj\u001b[0m\u001b[0;34m+\u001b[0m\u001b[0;36m1\u001b[0m\u001b[0;34m)\u001b[0m\u001b[0;34m\u001b[0m\u001b[0m\n\u001b[1;32m      7\u001b[0m         \u001b[0mplt\u001b[0m\u001b[0;34m.\u001b[0m\u001b[0mtitle\u001b[0m\u001b[0;34m(\u001b[0m\u001b[0my_train\u001b[0m\u001b[0;34m[\u001b[0m\u001b[0mplt_idx\u001b[0m\u001b[0;34m]\u001b[0m\u001b[0;34m)\u001b[0m\u001b[0;34m\u001b[0m\u001b[0m\n\u001b[0;32m----> 8\u001b[0;31m         \u001b[0mplt\u001b[0m\u001b[0;34m.\u001b[0m\u001b[0mimshow\u001b[0m\u001b[0;34m(\u001b[0m\u001b[0mX_train\u001b[0m\u001b[0;34m[\u001b[0m\u001b[0mplt_idx\u001b[0m\u001b[0;34m,\u001b[0m\u001b[0;34m:\u001b[0m\u001b[0;34m,\u001b[0m\u001b[0;34m:\u001b[0m\u001b[0;34m]\u001b[0m\u001b[0;34m)\u001b[0m\u001b[0;34m\u001b[0m\u001b[0m\n\u001b[0m\u001b[1;32m      9\u001b[0m         \u001b[0mplt\u001b[0m\u001b[0;34m.\u001b[0m\u001b[0maxis\u001b[0m\u001b[0;34m(\u001b[0m\u001b[0;34m'off'\u001b[0m\u001b[0;34m)\u001b[0m\u001b[0;34m\u001b[0m\u001b[0m\n\u001b[1;32m     10\u001b[0m \u001b[0;34m\u001b[0m\u001b[0m\n",
      "\u001b[0;31mIndexError\u001b[0m: too many indices for array"
     ]
    },
    {
     "data": {
      "image/png": "[encoded data removed]",
      "text/plain": [
       "<matplotlib.figure.Figure at 0x7f2be8270748>"
      ]
     },
     "metadata": {},
     "output_type": "display_data"
    }
   ],
   "source": [
    "row, col = 5, 10\n",
    "idx = np.random.choice(X_train.shape[0], row*col, replace=False)\n",
    "for i in range(row):\n",
    "    for j in range(col):\n",
    "        plt_idx = idx[i*col+j]\n",
    "        plt.subplot(row, col, i*col+j+1)\n",
    "        plt.title(y_train[plt_idx])\n",
    "        plt.imshow(X_train[plt_idx,:,:])\n",
    "        plt.axis('off')\n",
    "\n",
    "plt.show()"
   ]
  },
  {
   "cell_type": "markdown",
   "metadata": {
    "slideshow": {
     "slide_type": "subslide"
    }
   },
   "source": [
    "# Preprocess the data\n",
    "## Part.1\n",
    "In this part, we preprocess the data by:\n",
    "\n",
    "- Split training set data to train and validation.\n",
    "- Normalize the data"
   ]
  },
  {
   "cell_type": "code",
   "execution_count": 3,
   "metadata": {
    "slideshow": {
     "slide_type": "subslide"
    }
   },
   "outputs": [
    {
     "name": "stdout",
     "output_type": "stream",
     "text": [
      "Train data shape:  (50000, 28, 28)\n",
      "Train labels shape:  (50000,)\n",
      "Validation data shape:  (10000, 28, 28)\n",
      "Validation labels shape:  (10000,)\n",
      "Test data shape:  (10000, 28, 28)\n",
      "Test labels shape:  (10000,)\n"
     ]
    }
   ],
   "source": [
    "X_train, y_train = loadMNIST(dataset=\"training\", num_image=60000)\n",
    "X_test, y_test = loadMNIST(dataset=\"test\", num_image=10000)\n",
    "\n",
    "# Split the data into train, val, and test sets. \n",
    "num_training = 50000\n",
    "num_validation = 10000\n",
    "num_test = 10000\n",
    "\n",
    "# Our validation set will be num_validation points from the original\n",
    "# training set.\n",
    "mask = range(num_training, num_training + num_validation)\n",
    "X_val = X_train[mask]\n",
    "y_val = y_train[mask]\n",
    "\n",
    "# Our training set will be the first num_train points from the original\n",
    "# training set.\n",
    "mask = range(num_training)\n",
    "X_train = X_train[mask]\n",
    "y_train = y_train[mask]\n",
    "\n",
    "# We use the first num_test points of the original test set as our\n",
    "# test set.\n",
    "mask = range(num_test)\n",
    "X_test = X_test[mask]\n",
    "y_test = y_test[mask]\n",
    "\n",
    "\n",
    "# Normalize the data: subtract the mean image\n",
    "mean_image = np.mean(X_train, axis=0)\n",
    "X_train -= mean_image\n",
    "X_val -= mean_image\n",
    "X_test -= mean_image\n",
    "\n",
    "\n",
    "print('Train data shape: ', X_train.shape)\n",
    "print('Train labels shape: ', y_train.shape)\n",
    "print('Validation data shape: ', X_val.shape)\n",
    "print('Validation labels shape: ', y_val.shape)\n",
    "print('Test data shape: ', X_test.shape)\n",
    "print('Test labels shape: ', y_test.shape)"
   ]
  },
  {
   "cell_type": "markdown",
   "metadata": {
    "slideshow": {
     "slide_type": "subslide"
    }
   },
   "source": [
    "## Part.2\n",
    "Reshape the 3 dimension data to a `[N * (row * col)]` 2 dimension matrix.\n",
    "`N` is the number of examples, `(row, col)` is the shape of an example image."
   ]
  },
  {
   "cell_type": "code",
   "execution_count": 4,
   "metadata": {
    "slideshow": {
     "slide_type": "subslide"
    }
   },
   "outputs": [
    {
     "name": "stdout",
     "output_type": "stream",
     "text": [
      "Training data shape:  (50000, 784)\n",
      "Validation data shape:  (10000, 784)\n",
      "Test data shape:  (10000, 784)\n"
     ]
    }
   ],
   "source": [
    "# Preprocessing: reshape the image data into rows\n",
    "X_train = np.reshape(X_train, (X_train.shape[0], -1))\n",
    "X_val = np.reshape(X_val, (X_val.shape[0], -1))\n",
    "X_test = np.reshape(X_test, (X_test.shape[0], -1))\n",
    "\n",
    "# As a sanity check, print out the shapes of the data\n",
    "print('Training data shape: ', X_train.shape)\n",
    "print('Validation data shape: ', X_val.shape)\n",
    "print('Test data shape: ', X_test.shape)"
   ]
  },
  {
   "cell_type": "markdown",
   "metadata": {},
   "source": [
    "# Overfit Small Dataset\n",
    "Training with a small dataset, i.e. a training set with 500 example images, we should see an overfitting model."
   ]
  },
  {
   "cell_type": "code",
   "execution_count": 5,
   "metadata": {},
   "outputs": [
    {
     "name": "stdout",
     "output_type": "stream",
     "text": [
      "Training data shape:  (500, 784)\n",
      "Validation data shape:  (10000, 784)\n",
      "Test data shape:  (10000, 784)\n"
     ]
    }
   ],
   "source": [
    "# Preprocessing: reshape the image data into rows\n",
    "X_train_small = X_train[:500, :]\n",
    "y_train_small = y_train[:500]\n",
    "# As a sanity check, print out the shapes of the data\n",
    "print('Training data shape: ', X_train_small.shape)\n",
    "print('Validation data shape: ', X_val.shape)\n",
    "print('Test data shape: ', X_test.shape)"
   ]
  },
  {
   "cell_type": "code",
   "execution_count": 15,
   "metadata": {
    "scrolled": false
   },
   "outputs": [
    {
     "name": "stdout",
     "output_type": "stream",
     "text": [
      "iteration 0 / 1000: loss 9.000105 val_acc 0.156000\n",
      "iteration 100 / 1000: loss 1.598976 val_acc 0.699100\n",
      "iteration 200 / 1000: loss 0.596358 val_acc 0.819000\n",
      "iteration 300 / 1000: loss 0.144625 val_acc 0.839700\n",
      "iteration 400 / 1000: loss 0.134965 val_acc 0.848800\n",
      "iteration 500 / 1000: loss 0.071468 val_acc 0.851200\n",
      "iteration 600 / 1000: loss 0.127277 val_acc 0.853200\n",
      "iteration 700 / 1000: loss 0.074162 val_acc 0.853100\n",
      "iteration 800 / 1000: loss 0.033737 val_acc 0.856200\n",
      "iteration 900 / 1000: loss 0.071266 val_acc 0.856100\n",
      "Validation accuracy:  0.8563\n",
      "Train accuracy:  0.998\n"
     ]
    }
   ],
   "source": [
    "input_size = 28 * 28\n",
    "hidden_size = 50\n",
    "num_classes = 10\n",
    "net = TwoLayerNet(input_size, hidden_size, num_classes)\n",
    "\n",
    "# Train the network\n",
    "stats = net.train(X_train_small, y_train_small, X_val, y_val,\n",
    "            num_iters=1000, batch_size=50,\n",
    "            learning_rate=1e-4, learning_rate_decay=0.99,\n",
    "            reg=0.5, verbose=True)\n",
    "\n",
    "# Predict on the validation set\n",
    "val_acc = (net.predict(X_val) == y_val).mean()\n",
    "train_acc = (net.predict(X_train_small) == y_train_small).mean()\n",
    "print('Validation accuracy: ', val_acc)\n",
    "print('Train accuracy: ', train_acc)"
   ]
  },
  {
   "cell_type": "code",
   "execution_count": 49,
   "metadata": {
    "scrolled": true
   },
   "outputs": [
    {
     "data": {
      "image/png": "[encoded data removed]",
      "text/plain": [
       "<matplotlib.figure.Figure at 0x7f2be8338320>"
      ]
     },
     "metadata": {},
     "output_type": "display_data"
    }
   ],
   "source": [
    "# Plot the loss function and train / validation accuracies\n",
    "plt.subplot(2, 1, 1)\n",
    "plt.plot(stats['loss_history'])\n",
    "plt.title('Loss history')\n",
    "plt.xlabel('Iteration')\n",
    "plt.ylabel('Loss')\n",
    "\n",
    "plt.subplot(2, 1, 2)\n",
    "plt.plot(stats['train_acc_history'], label='train')\n",
    "plt.plot(stats['val_acc_history'], label='val')\n",
    "plt.title('Classification accuracy history')\n",
    "plt.xlabel('Epoch')\n",
    "plt.ylabel('Clasification accuracy')\n",
    "plt.show()"
   ]
  },
  {
   "cell_type": "markdown",
   "metadata": {
    "slideshow": {
     "slide_type": "slide"
    }
   },
   "source": [
    "# Training\n",
    "Train a two layer neural network, update gradients with mini-batch data, optimize the loss with SGD.\n"
   ]
  },
  {
   "cell_type": "code",
   "execution_count": 61,
   "metadata": {
    "scrolled": true,
    "slideshow": {
     "slide_type": "slide"
    }
   },
   "outputs": [
    {
     "name": "stdout",
     "output_type": "stream",
     "text": [
      "iteration 0 / 20000: loss 9.000253 val_acc 0.268400\n",
      "iteration 100 / 20000: loss 1.430361 val_acc 0.807000\n",
      "iteration 200 / 20000: loss 0.881964 val_acc 0.882500\n",
      "iteration 300 / 20000: loss 0.463666 val_acc 0.897900\n",
      "iteration 400 / 20000: loss 0.564050 val_acc 0.907900\n",
      "iteration 500 / 20000: loss 0.439043 val_acc 0.913700\n",
      "iteration 600 / 20000: loss 0.377167 val_acc 0.919100\n",
      "iteration 700 / 20000: loss 0.286834 val_acc 0.924100\n",
      "iteration 800 / 20000: loss 0.472871 val_acc 0.926200\n",
      "iteration 900 / 20000: loss 0.358269 val_acc 0.927600\n",
      "iteration 1000 / 20000: loss 0.515192 val_acc 0.930400\n",
      "iteration 1100 / 20000: loss 0.220007 val_acc 0.933400\n",
      "iteration 1200 / 20000: loss 0.377677 val_acc 0.935200\n",
      "iteration 1300 / 20000: loss 0.252128 val_acc 0.935500\n",
      "iteration 1400 / 20000: loss 0.264801 val_acc 0.938500\n",
      "iteration 1500 / 20000: loss 0.243509 val_acc 0.938700\n",
      "iteration 1600 / 20000: loss 0.313286 val_acc 0.941500\n",
      "iteration 1700 / 20000: loss 0.320593 val_acc 0.942500\n",
      "iteration 1800 / 20000: loss 0.304370 val_acc 0.943700\n",
      "iteration 1900 / 20000: loss 0.261920 val_acc 0.945900\n",
      "iteration 2000 / 20000: loss 0.198169 val_acc 0.945100\n",
      "iteration 2100 / 20000: loss 0.230627 val_acc 0.947300\n",
      "iteration 2200 / 20000: loss 0.306529 val_acc 0.947800\n",
      "iteration 2300 / 20000: loss 0.237603 val_acc 0.948800\n",
      "iteration 2400 / 20000: loss 0.368220 val_acc 0.949600\n",
      "iteration 2500 / 20000: loss 0.204667 val_acc 0.950100\n",
      "iteration 2600 / 20000: loss 0.283883 val_acc 0.951400\n",
      "iteration 2700 / 20000: loss 0.152677 val_acc 0.951800\n",
      "iteration 2800 / 20000: loss 0.373961 val_acc 0.953100\n",
      "iteration 2900 / 20000: loss 0.166741 val_acc 0.952400\n",
      "iteration 3000 / 20000: loss 0.174940 val_acc 0.953800\n",
      "iteration 3100 / 20000: loss 0.173823 val_acc 0.954200\n",
      "iteration 3200 / 20000: loss 0.205940 val_acc 0.956800\n",
      "iteration 3300 / 20000: loss 0.209399 val_acc 0.955600\n",
      "iteration 3400 / 20000: loss 0.232150 val_acc 0.956300\n",
      "iteration 3500 / 20000: loss 0.237477 val_acc 0.957200\n",
      "iteration 3600 / 20000: loss 0.184680 val_acc 0.957300\n",
      "iteration 3700 / 20000: loss 0.272165 val_acc 0.958800\n",
      "iteration 3800 / 20000: loss 0.305394 val_acc 0.957700\n",
      "iteration 3900 / 20000: loss 0.197259 val_acc 0.958900\n",
      "iteration 4000 / 20000: loss 0.202140 val_acc 0.959900\n",
      "iteration 4100 / 20000: loss 0.269320 val_acc 0.959500\n",
      "iteration 4200 / 20000: loss 0.191494 val_acc 0.961200\n",
      "iteration 4300 / 20000: loss 0.140296 val_acc 0.961300\n",
      "iteration 4400 / 20000: loss 0.146266 val_acc 0.961400\n",
      "iteration 4500 / 20000: loss 0.212942 val_acc 0.962100\n",
      "iteration 4600 / 20000: loss 0.182725 val_acc 0.962400\n",
      "iteration 4700 / 20000: loss 0.196870 val_acc 0.962300\n",
      "iteration 4800 / 20000: loss 0.238889 val_acc 0.962900\n",
      "iteration 4900 / 20000: loss 0.205548 val_acc 0.963400\n",
      "iteration 5000 / 20000: loss 0.185714 val_acc 0.963100\n",
      "iteration 5100 / 20000: loss 0.222684 val_acc 0.963900\n",
      "iteration 5200 / 20000: loss 0.210381 val_acc 0.964000\n",
      "iteration 5300 / 20000: loss 0.206348 val_acc 0.964200\n",
      "iteration 5400 / 20000: loss 0.271246 val_acc 0.963900\n",
      "iteration 5500 / 20000: loss 0.201371 val_acc 0.965000\n",
      "iteration 5600 / 20000: loss 0.142105 val_acc 0.964500\n",
      "iteration 5700 / 20000: loss 0.156455 val_acc 0.965900\n",
      "iteration 5800 / 20000: loss 0.221523 val_acc 0.966400\n",
      "iteration 5900 / 20000: loss 0.147921 val_acc 0.966200\n",
      "iteration 6000 / 20000: loss 0.134858 val_acc 0.966800\n",
      "iteration 6100 / 20000: loss 0.184821 val_acc 0.965900\n",
      "iteration 6200 / 20000: loss 0.191210 val_acc 0.966200\n",
      "iteration 6300 / 20000: loss 0.178949 val_acc 0.966400\n",
      "iteration 6400 / 20000: loss 0.204432 val_acc 0.967300\n",
      "iteration 6500 / 20000: loss 0.161548 val_acc 0.967300\n",
      "iteration 6600 / 20000: loss 0.172383 val_acc 0.967000\n",
      "iteration 6700 / 20000: loss 0.235262 val_acc 0.968100\n",
      "iteration 6800 / 20000: loss 0.137419 val_acc 0.968200\n",
      "iteration 6900 / 20000: loss 0.169651 val_acc 0.968200\n",
      "iteration 7000 / 20000: loss 0.285089 val_acc 0.967700\n",
      "iteration 7100 / 20000: loss 0.161074 val_acc 0.967700\n",
      "iteration 7200 / 20000: loss 0.112336 val_acc 0.968300\n",
      "iteration 7300 / 20000: loss 0.141082 val_acc 0.968700\n",
      "iteration 7400 / 20000: loss 0.205102 val_acc 0.968600\n",
      "iteration 7500 / 20000: loss 0.176612 val_acc 0.969100\n",
      "iteration 7600 / 20000: loss 0.236303 val_acc 0.969400\n",
      "iteration 7700 / 20000: loss 0.141939 val_acc 0.969400\n",
      "iteration 7800 / 20000: loss 0.187863 val_acc 0.969900\n",
      "iteration 7900 / 20000: loss 0.167837 val_acc 0.970400\n",
      "iteration 8000 / 20000: loss 0.157193 val_acc 0.970100\n",
      "iteration 8100 / 20000: loss 0.146176 val_acc 0.969700\n",
      "iteration 8200 / 20000: loss 0.158830 val_acc 0.970600\n",
      "iteration 8300 / 20000: loss 0.166415 val_acc 0.970500\n",
      "iteration 8400 / 20000: loss 0.188391 val_acc 0.970900\n",
      "iteration 8500 / 20000: loss 0.214218 val_acc 0.970700\n",
      "iteration 8600 / 20000: loss 0.246692 val_acc 0.971500\n",
      "iteration 8700 / 20000: loss 0.120480 val_acc 0.971300\n",
      "iteration 8800 / 20000: loss 0.214107 val_acc 0.971600\n",
      "iteration 8900 / 20000: loss 0.141029 val_acc 0.971400\n",
      "iteration 9000 / 20000: loss 0.161570 val_acc 0.971300\n",
      "iteration 9100 / 20000: loss 0.231698 val_acc 0.971800\n",
      "iteration 9200 / 20000: loss 0.121444 val_acc 0.971600\n",
      "iteration 9300 / 20000: loss 0.164048 val_acc 0.971800\n",
      "iteration 9400 / 20000: loss 0.179035 val_acc 0.971600\n",
      "iteration 9500 / 20000: loss 0.224786 val_acc 0.971100\n",
      "iteration 9600 / 20000: loss 0.135543 val_acc 0.972000\n",
      "iteration 9700 / 20000: loss 0.177860 val_acc 0.972100\n",
      "iteration 9800 / 20000: loss 0.087639 val_acc 0.971400\n",
      "iteration 9900 / 20000: loss 0.118333 val_acc 0.971400\n",
      "iteration 10000 / 20000: loss 0.131102 val_acc 0.972200\n",
      "iteration 10100 / 20000: loss 0.135797 val_acc 0.971800\n",
      "iteration 10200 / 20000: loss 0.190437 val_acc 0.971500\n",
      "iteration 10300 / 20000: loss 0.163866 val_acc 0.972000\n",
      "iteration 10400 / 20000: loss 0.162519 val_acc 0.972600\n",
      "iteration 10500 / 20000: loss 0.119207 val_acc 0.972500\n",
      "iteration 10600 / 20000: loss 0.189633 val_acc 0.973400\n",
      "iteration 10700 / 20000: loss 0.114917 val_acc 0.972900\n",
      "iteration 10800 / 20000: loss 0.132686 val_acc 0.972800\n",
      "iteration 10900 / 20000: loss 0.176486 val_acc 0.973000\n",
      "iteration 11000 / 20000: loss 0.127141 val_acc 0.972600\n",
      "iteration 11100 / 20000: loss 0.184875 val_acc 0.973400\n",
      "iteration 11200 / 20000: loss 0.184710 val_acc 0.973300\n",
      "iteration 11300 / 20000: loss 0.129472 val_acc 0.973000\n",
      "iteration 11400 / 20000: loss 0.140398 val_acc 0.973400\n",
      "iteration 11500 / 20000: loss 0.097874 val_acc 0.973700\n",
      "iteration 11600 / 20000: loss 0.134022 val_acc 0.973700\n",
      "iteration 11700 / 20000: loss 0.135209 val_acc 0.974400\n",
      "iteration 11800 / 20000: loss 0.109135 val_acc 0.973600\n",
      "iteration 11900 / 20000: loss 0.241524 val_acc 0.973400\n",
      "iteration 12000 / 20000: loss 0.143628 val_acc 0.974000\n",
      "iteration 12100 / 20000: loss 0.152222 val_acc 0.974100\n",
      "iteration 12200 / 20000: loss 0.194575 val_acc 0.974000\n",
      "iteration 12300 / 20000: loss 0.177151 val_acc 0.973900\n",
      "iteration 12400 / 20000: loss 0.161642 val_acc 0.974400\n",
      "iteration 12500 / 20000: loss 0.226139 val_acc 0.973600\n",
      "iteration 12600 / 20000: loss 0.155521 val_acc 0.974200\n",
      "iteration 12700 / 20000: loss 0.149631 val_acc 0.973800\n",
      "iteration 12800 / 20000: loss 0.154013 val_acc 0.974200\n",
      "iteration 12900 / 20000: loss 0.149851 val_acc 0.974500\n",
      "iteration 13000 / 20000: loss 0.126719 val_acc 0.974300\n",
      "iteration 13100 / 20000: loss 0.129484 val_acc 0.975200\n",
      "iteration 13200 / 20000: loss 0.180146 val_acc 0.974800\n",
      "iteration 13300 / 20000: loss 0.140335 val_acc 0.975100\n",
      "iteration 13400 / 20000: loss 0.160316 val_acc 0.974600\n",
      "iteration 13500 / 20000: loss 0.178502 val_acc 0.974700\n",
      "iteration 13600 / 20000: loss 0.131552 val_acc 0.974900\n",
      "iteration 13700 / 20000: loss 0.124389 val_acc 0.974800\n",
      "iteration 13800 / 20000: loss 0.148806 val_acc 0.975400\n",
      "iteration 13900 / 20000: loss 0.099126 val_acc 0.975400\n",
      "iteration 14000 / 20000: loss 0.179360 val_acc 0.975500\n",
      "iteration 14100 / 20000: loss 0.204835 val_acc 0.975300\n",
      "iteration 14200 / 20000: loss 0.131538 val_acc 0.975300\n",
      "iteration 14300 / 20000: loss 0.106010 val_acc 0.975200\n",
      "iteration 14400 / 20000: loss 0.152707 val_acc 0.975500\n",
      "iteration 14500 / 20000: loss 0.156571 val_acc 0.975500\n",
      "iteration 14600 / 20000: loss 0.120663 val_acc 0.975700\n",
      "iteration 14700 / 20000: loss 0.113151 val_acc 0.975500\n",
      "iteration 14800 / 20000: loss 0.197498 val_acc 0.975800\n"
     ]
    },
    {
     "name": "stdout",
     "output_type": "stream",
     "text": [
      "iteration 14900 / 20000: loss 0.177406 val_acc 0.975900\n",
      "iteration 15000 / 20000: loss 0.159052 val_acc 0.975400\n",
      "iteration 15100 / 20000: loss 0.139550 val_acc 0.975500\n",
      "iteration 15200 / 20000: loss 0.146758 val_acc 0.975500\n",
      "iteration 15300 / 20000: loss 0.194657 val_acc 0.975900\n",
      "iteration 15400 / 20000: loss 0.125144 val_acc 0.976400\n",
      "iteration 15500 / 20000: loss 0.145259 val_acc 0.976200\n",
      "iteration 15600 / 20000: loss 0.095809 val_acc 0.975600\n",
      "iteration 15700 / 20000: loss 0.135604 val_acc 0.975200\n",
      "iteration 15800 / 20000: loss 0.142998 val_acc 0.975600\n",
      "iteration 15900 / 20000: loss 0.120985 val_acc 0.975700\n",
      "iteration 16000 / 20000: loss 0.199405 val_acc 0.975800\n",
      "iteration 16100 / 20000: loss 0.141665 val_acc 0.976200\n",
      "iteration 16200 / 20000: loss 0.142575 val_acc 0.976000\n",
      "iteration 16300 / 20000: loss 0.139592 val_acc 0.976000\n",
      "iteration 16400 / 20000: loss 0.125685 val_acc 0.976300\n",
      "iteration 16500 / 20000: loss 0.175387 val_acc 0.976100\n",
      "iteration 16600 / 20000: loss 0.160000 val_acc 0.976500\n",
      "iteration 16700 / 20000: loss 0.115293 val_acc 0.975900\n",
      "iteration 16800 / 20000: loss 0.180103 val_acc 0.976000\n",
      "iteration 16900 / 20000: loss 0.139540 val_acc 0.976100\n",
      "iteration 17000 / 20000: loss 0.137691 val_acc 0.976600\n",
      "iteration 17100 / 20000: loss 0.119382 val_acc 0.976200\n",
      "iteration 17200 / 20000: loss 0.143755 val_acc 0.976100\n",
      "iteration 17300 / 20000: loss 0.179826 val_acc 0.976700\n",
      "iteration 17400 / 20000: loss 0.133765 val_acc 0.976400\n",
      "iteration 17500 / 20000: loss 0.176812 val_acc 0.976700\n",
      "iteration 17600 / 20000: loss 0.124460 val_acc 0.976800\n",
      "iteration 17700 / 20000: loss 0.133847 val_acc 0.976900\n",
      "iteration 17800 / 20000: loss 0.125467 val_acc 0.976700\n",
      "iteration 17900 / 20000: loss 0.162989 val_acc 0.976000\n",
      "iteration 18000 / 20000: loss 0.146490 val_acc 0.976200\n",
      "iteration 18100 / 20000: loss 0.148618 val_acc 0.976400\n",
      "iteration 18200 / 20000: loss 0.133489 val_acc 0.976500\n",
      "iteration 18300 / 20000: loss 0.143748 val_acc 0.976800\n",
      "iteration 18400 / 20000: loss 0.130584 val_acc 0.976800\n",
      "iteration 18500 / 20000: loss 0.121229 val_acc 0.976500\n",
      "iteration 18600 / 20000: loss 0.106528 val_acc 0.976800\n",
      "iteration 18700 / 20000: loss 0.149498 val_acc 0.976500\n",
      "iteration 18800 / 20000: loss 0.149234 val_acc 0.977100\n",
      "iteration 18900 / 20000: loss 0.139865 val_acc 0.977100\n",
      "iteration 19000 / 20000: loss 0.134465 val_acc 0.977000\n",
      "iteration 19100 / 20000: loss 0.126781 val_acc 0.976900\n",
      "iteration 19200 / 20000: loss 0.143517 val_acc 0.976700\n",
      "iteration 19300 / 20000: loss 0.142081 val_acc 0.976700\n",
      "iteration 19400 / 20000: loss 0.131873 val_acc 0.976600\n",
      "iteration 19500 / 20000: loss 0.152839 val_acc 0.976700\n",
      "iteration 19600 / 20000: loss 0.180144 val_acc 0.976600\n",
      "iteration 19700 / 20000: loss 0.109535 val_acc 0.976600\n",
      "iteration 19800 / 20000: loss 0.151495 val_acc 0.976500\n",
      "iteration 19900 / 20000: loss 0.104927 val_acc 0.976400\n",
      "Validation accuracy:  0.9768\n",
      "Train accuracy:  0.9849\n"
     ]
    }
   ],
   "source": [
    "input_size = 28 * 28\n",
    "hidden_size = 200\n",
    "num_classes = 10\n",
    "net = TwoLayerNet(input_size, hidden_size, num_classes)\n",
    "\n",
    "# Train the network\n",
    "stats = net.train(X_train, y_train, X_val, y_val,\n",
    "            num_iters=20000, batch_size=200,\n",
    "            learning_rate=1e-4, learning_rate_decay=0.99,\n",
    "            reg=0.5, verbose=True)\n",
    "\n",
    "# Predict on the validation set\n",
    "val_acc = (net.predict(X_val) == y_val).mean()\n",
    "train_acc = (net.predict(X_train) == y_train).mean()\n",
    "print('Validation accuracy: ', val_acc)\n",
    "print('Train accuracy: ', train_acc)"
   ]
  },
  {
   "cell_type": "markdown",
   "metadata": {
    "slideshow": {
     "slide_type": "slide"
    }
   },
   "source": [
    "# Debug the training\n",
    "The loss history indicates whether loss is converging.\n",
    "Overfitting or underfitting can be observed from classification accuracy history.\n",
    "If there is a big gap between training accuracy and validation accuracy curves, the model is highly possible overfitting. Else if the training accuracy is low, and validation accuracy alike, the model might be underfitting.\n",
    "To avoid such occasions, fine tune the parameters with your observation on the plots."
   ]
  },
  {
   "cell_type": "code",
   "execution_count": 47,
   "metadata": {
    "scrolled": true,
    "slideshow": {
     "slide_type": "slide"
    }
   },
   "outputs": [
    {
     "data": {
      "image/png": "[encoded data removed]",
      "text/plain": [
       "<matplotlib.figure.Figure at 0x7f2bf6b8cfd0>"
      ]
     },
     "metadata": {},
     "output_type": "display_data"
    }
   ],
   "source": [
    "# Plot the loss function and train / validation accuracies\n",
    "plt.subplot(2, 1, 1)\n",
    "plt.plot(stats['loss_history'])\n",
    "plt.title('Loss history')\n",
    "plt.xlabel('Iteration')\n",
    "plt.ylabel('Loss')\n",
    "\n",
    "plt.subplot(2, 1, 2)\n",
    "plt.plot(stats['train_acc_history'], label='train')\n",
    "plt.plot(stats['val_acc_history'], label='val')\n",
    "plt.title('Classification accuracy history')\n",
    "plt.xlabel('Epoch')\n",
    "plt.ylabel('Clasification accuracy')\n",
    "plt.show()"
   ]
  },
  {
   "cell_type": "markdown",
   "metadata": {
    "slideshow": {
     "slide_type": "slide"
    }
   },
   "source": [
    "# Performance of the model\n",
    "Now it's time to finally evaluate our model, with test set data."
   ]
  },
  {
   "cell_type": "code",
   "execution_count": 63,
   "metadata": {
    "slideshow": {
     "slide_type": "slide"
    }
   },
   "outputs": [
    {
     "name": "stdout",
     "output_type": "stream",
     "text": [
      "Test accuracy:  0.9763\n"
     ]
    }
   ],
   "source": [
    "test_acc = (net.predict(X_test) == y_test).mean()\n",
    "print('Test accuracy: ', test_acc)"
   ]
  },
  {
   "cell_type": "markdown",
   "metadata": {
    "slideshow": {
     "slide_type": "slide"
    }
   },
   "source": [
    "# Show some random image and predict using our model"
   ]
  },
  {
   "cell_type": "code",
   "execution_count": 45,
   "metadata": {
    "scrolled": true,
    "slideshow": {
     "slide_type": "slide"
    }
   },
   "outputs": [
    {
     "data": {
      "image/png": "[encoded data removed]",
      "text/plain": [
       "<matplotlib.figure.Figure at 0x7fde0a2919b0>"
      ]
     },
     "metadata": {},
     "output_type": "display_data"
    }
   ],
   "source": [
    "row, col = 5, 8\n",
    "y_test_pred = net.predict(X_test)\n",
    "X_test_image = X_test.reshape(-1, 28, 28)\n",
    "idx = np.random.choice(X_test.shape[0], row*col, replace=False)\n",
    "for i in range(row):\n",
    "    for j in range(col):\n",
    "        plt_idx = idx[i*col+j]\n",
    "        plt.subplot(row, col, i*col+j+1)\n",
    "        plt.title('pred: ' + str(y_test_pred[plt_idx]))\n",
    "        plt.imshow(X_test_image[plt_idx,:,:])\n",
    "        plt.axis('off')\n",
    "\n",
    "plt.show()"
   ]
  },
  {
   "cell_type": "markdown",
   "metadata": {},
   "source": [
    "# Use a Residual Block\n",
    "The 2-layer plain neural network has achieved a accuracy of 97.2%, in this section we will add a shortcut to bypass the the two layers, thus feed the input directly to svm loss function."
   ]
  },
  {
   "cell_type": "code",
   "execution_count": 54,
   "metadata": {
    "scrolled": true
   },
   "outputs": [
    {
     "name": "stdout",
     "output_type": "stream",
     "text": [
      "iteration 0 / 1000: loss 23.391712 val_acc 0.212000\n",
      "iteration 100 / 1000: loss 8.891242 val_acc 0.740700\n",
      "iteration 200 / 1000: loss 8.784740 val_acc 0.748200\n",
      "iteration 300 / 1000: loss 8.747191 val_acc 0.749500\n",
      "iteration 400 / 1000: loss 8.713391 val_acc 0.751600\n",
      "iteration 500 / 1000: loss 8.683003 val_acc 0.751700\n",
      "iteration 600 / 1000: loss 8.655688 val_acc 0.751000\n",
      "iteration 700 / 1000: loss 8.631119 val_acc 0.751000\n",
      "iteration 800 / 1000: loss 8.609008 val_acc 0.750900\n",
      "iteration 900 / 1000: loss 8.589100 val_acc 0.750900\n",
      "Validation accuracy:  0.7508\n",
      "Train accuracy:  1.0\n"
     ]
    }
   ],
   "source": [
    "input_size = 28 * 28\n",
    "hidden_size = 200\n",
    "hidden2_size = 200\n",
    "num_classes = 10\n",
    "net = ThreeLayerNet(input_size, hidden_size, hidden2_size, num_classes, std = 0.01, use_Res=True)\n",
    "\n",
    "# Train the network\n",
    "stats = net.train(X_train_small, y_train_small, X_val, y_val,\n",
    "            num_iters=1000, batch_size=50,\n",
    "            learning_rate=1e-4, learning_rate_decay=0.99,\n",
    "            reg=0.5, verbose=True)\n",
    "\n",
    "# Predict on the validation set\n",
    "val_acc = (net.predict(X_val) == y_val).mean()\n",
    "train_acc = (net.predict(X_train_small) == y_train_small).mean()\n",
    "print('Validation accuracy: ', val_acc)\n",
    "print('Train accuracy: ', train_acc)"
   ]
  },
  {
   "cell_type": "code",
   "execution_count": 55,
   "metadata": {
    "scrolled": true
   },
   "outputs": [
    {
     "name": "stdout",
     "output_type": "stream",
     "text": [
      "iteration 0 / 1000: loss 14.383644 val_acc 0.096200\n",
      "iteration 100 / 1000: loss 6.537336 val_acc 0.716400\n",
      "iteration 200 / 1000: loss 5.789436 val_acc 0.766800\n",
      "iteration 300 / 1000: loss 5.904385 val_acc 0.794300\n",
      "iteration 400 / 1000: loss 5.488999 val_acc 0.807500\n",
      "iteration 500 / 1000: loss 5.341890 val_acc 0.816200\n",
      "iteration 600 / 1000: loss 5.078296 val_acc 0.824100\n",
      "iteration 700 / 1000: loss 5.041621 val_acc 0.829100\n",
      "iteration 800 / 1000: loss 5.162288 val_acc 0.830500\n",
      "iteration 900 / 1000: loss 4.980743 val_acc 0.832000\n",
      "Validation accuracy:  0.8334\n",
      "Train accuracy:  0.986\n"
     ]
    }
   ],
   "source": [
    "input_size = 28 * 28\n",
    "hidden_size = 200\n",
    "hidden2_size = 200\n",
    "num_classes = 10\n",
    "net = ThreeLayerNet(input_size, hidden_size, hidden2_size, num_classes, std = 0.01, use_Res=False)\n",
    "\n",
    "# Train the network\n",
    "stats = net.train(X_train_small, y_train_small, X_val, y_val,\n",
    "            num_iters=1000, batch_size=50,\n",
    "            learning_rate=1e-4, learning_rate_decay=0.99,\n",
    "            reg=0.5, verbose=True)\n",
    "\n",
    "# Predict on the validation set\n",
    "val_acc = (net.predict(X_val) == y_val).mean()\n",
    "train_acc = (net.predict(X_train_small) == y_train_small).mean()\n",
    "print('Validation accuracy: ', val_acc)\n",
    "print('Train accuracy: ', train_acc)"
   ]
  },
  {
   "cell_type": "code",
   "execution_count": 56,
   "metadata": {
    "scrolled": true
   },
   "outputs": [
    {
     "name": "stdout",
     "output_type": "stream",
     "text": [
      "iteration 0 / 15000: loss 14.472184 val_acc 0.069800\n",
      "iteration 100 / 15000: loss 7.369236 val_acc 0.790400\n",
      "iteration 200 / 15000: loss 6.177655 val_acc 0.850900\n",
      "iteration 300 / 15000: loss 6.005511 val_acc 0.872900\n",
      "iteration 400 / 15000: loss 5.525551 val_acc 0.883500\n",
      "iteration 500 / 15000: loss 5.717867 val_acc 0.894800\n",
      "iteration 600 / 15000: loss 5.748199 val_acc 0.900900\n",
      "iteration 700 / 15000: loss 5.073751 val_acc 0.904400\n",
      "iteration 800 / 15000: loss 5.279585 val_acc 0.906900\n",
      "iteration 900 / 15000: loss 5.106162 val_acc 0.911100\n",
      "iteration 1000 / 15000: loss 5.043898 val_acc 0.914600\n",
      "iteration 1100 / 15000: loss 4.952129 val_acc 0.918300\n",
      "iteration 1200 / 15000: loss 4.691234 val_acc 0.920300\n",
      "iteration 1300 / 15000: loss 5.300687 val_acc 0.921800\n",
      "iteration 1400 / 15000: loss 4.618787 val_acc 0.923400\n",
      "iteration 1500 / 15000: loss 4.644103 val_acc 0.924000\n",
      "iteration 1600 / 15000: loss 4.558806 val_acc 0.925300\n",
      "iteration 1700 / 15000: loss 4.879322 val_acc 0.928000\n",
      "iteration 1800 / 15000: loss 4.540447 val_acc 0.927500\n",
      "iteration 1900 / 15000: loss 4.517972 val_acc 0.929700\n",
      "iteration 2000 / 15000: loss 4.658268 val_acc 0.931700\n",
      "iteration 2100 / 15000: loss 4.546680 val_acc 0.931700\n",
      "iteration 2200 / 15000: loss 4.704448 val_acc 0.930900\n",
      "iteration 2300 / 15000: loss 4.372628 val_acc 0.933300\n",
      "iteration 2400 / 15000: loss 4.305623 val_acc 0.933900\n",
      "iteration 2500 / 15000: loss 4.416118 val_acc 0.934700\n",
      "iteration 2600 / 15000: loss 4.421720 val_acc 0.935000\n",
      "iteration 2700 / 15000: loss 4.307926 val_acc 0.937500\n",
      "iteration 2800 / 15000: loss 4.430376 val_acc 0.937500\n",
      "iteration 2900 / 15000: loss 4.184760 val_acc 0.938500\n",
      "iteration 3000 / 15000: loss 4.228134 val_acc 0.938600\n",
      "iteration 3100 / 15000: loss 4.157720 val_acc 0.938900\n",
      "iteration 3200 / 15000: loss 3.984407 val_acc 0.940300\n",
      "iteration 3300 / 15000: loss 4.231071 val_acc 0.942000\n",
      "iteration 3400 / 15000: loss 4.026893 val_acc 0.942200\n",
      "iteration 3500 / 15000: loss 4.006890 val_acc 0.943800\n",
      "iteration 3600 / 15000: loss 3.804717 val_acc 0.942600\n",
      "iteration 3700 / 15000: loss 3.907602 val_acc 0.944000\n",
      "iteration 3800 / 15000: loss 3.925085 val_acc 0.945100\n",
      "iteration 3900 / 15000: loss 3.879460 val_acc 0.945300\n",
      "iteration 4000 / 15000: loss 3.774672 val_acc 0.947300\n",
      "iteration 4100 / 15000: loss 3.739479 val_acc 0.946500\n",
      "iteration 4200 / 15000: loss 3.589049 val_acc 0.945700\n",
      "iteration 4300 / 15000: loss 4.459000 val_acc 0.948700\n",
      "iteration 4400 / 15000: loss 3.639542 val_acc 0.948200\n",
      "iteration 4500 / 15000: loss 3.577189 val_acc 0.948800\n",
      "iteration 4600 / 15000: loss 3.626594 val_acc 0.947100\n",
      "iteration 4700 / 15000: loss 3.642209 val_acc 0.949900\n",
      "iteration 4800 / 15000: loss 3.756289 val_acc 0.950400\n",
      "iteration 4900 / 15000: loss 3.587108 val_acc 0.949500\n",
      "iteration 5000 / 15000: loss 3.598497 val_acc 0.949900\n",
      "iteration 5100 / 15000: loss 3.830133 val_acc 0.951000\n",
      "iteration 5200 / 15000: loss 3.380635 val_acc 0.951500\n",
      "iteration 5300 / 15000: loss 3.459045 val_acc 0.952100\n",
      "iteration 5400 / 15000: loss 3.563861 val_acc 0.953200\n",
      "iteration 5500 / 15000: loss 3.648387 val_acc 0.953700\n",
      "iteration 5600 / 15000: loss 3.422569 val_acc 0.953300\n",
      "iteration 5700 / 15000: loss 3.351441 val_acc 0.953500\n",
      "iteration 5800 / 15000: loss 3.257574 val_acc 0.954500\n",
      "iteration 5900 / 15000: loss 3.371106 val_acc 0.952800\n",
      "iteration 6000 / 15000: loss 3.085094 val_acc 0.953500\n",
      "iteration 6100 / 15000: loss 3.175455 val_acc 0.953200\n",
      "iteration 6200 / 15000: loss 3.041971 val_acc 0.953900\n",
      "iteration 6300 / 15000: loss 2.992117 val_acc 0.954600\n",
      "iteration 6400 / 15000: loss 3.099991 val_acc 0.954000\n",
      "iteration 6500 / 15000: loss 3.055407 val_acc 0.955100\n",
      "iteration 6600 / 15000: loss 3.019074 val_acc 0.954200\n",
      "iteration 6700 / 15000: loss 3.077183 val_acc 0.956000\n",
      "iteration 6800 / 15000: loss 2.845809 val_acc 0.956000\n",
      "iteration 6900 / 15000: loss 2.976934 val_acc 0.956300\n",
      "iteration 7000 / 15000: loss 3.095236 val_acc 0.957100\n",
      "iteration 7100 / 15000: loss 3.046628 val_acc 0.956700\n",
      "iteration 7200 / 15000: loss 2.824188 val_acc 0.957200\n",
      "iteration 7300 / 15000: loss 2.871361 val_acc 0.956300\n",
      "iteration 7400 / 15000: loss 2.923215 val_acc 0.956300\n",
      "iteration 7500 / 15000: loss 2.734992 val_acc 0.956800\n",
      "iteration 7600 / 15000: loss 2.853195 val_acc 0.957000\n",
      "iteration 7700 / 15000: loss 2.601725 val_acc 0.957200\n",
      "iteration 7800 / 15000: loss 2.640424 val_acc 0.957800\n",
      "iteration 7900 / 15000: loss 3.050960 val_acc 0.958300\n",
      "iteration 8000 / 15000: loss 2.833770 val_acc 0.958100\n",
      "iteration 8100 / 15000: loss 2.533980 val_acc 0.957500\n",
      "iteration 8200 / 15000: loss 2.527451 val_acc 0.957900\n",
      "iteration 8300 / 15000: loss 2.659716 val_acc 0.958000\n",
      "iteration 8400 / 15000: loss 2.788860 val_acc 0.958100\n",
      "iteration 8500 / 15000: loss 2.671783 val_acc 0.958700\n",
      "iteration 8600 / 15000: loss 2.722017 val_acc 0.958000\n",
      "iteration 8700 / 15000: loss 2.663693 val_acc 0.958200\n",
      "iteration 8800 / 15000: loss 2.708456 val_acc 0.958000\n",
      "iteration 8900 / 15000: loss 2.640153 val_acc 0.958800\n",
      "iteration 9000 / 15000: loss 2.644642 val_acc 0.959600\n",
      "iteration 9100 / 15000: loss 2.847880 val_acc 0.959700\n",
      "iteration 9200 / 15000: loss 2.505724 val_acc 0.959700\n",
      "iteration 9300 / 15000: loss 2.339435 val_acc 0.959500\n",
      "iteration 9400 / 15000: loss 2.459950 val_acc 0.959900\n",
      "iteration 9500 / 15000: loss 2.409119 val_acc 0.959600\n",
      "iteration 9600 / 15000: loss 2.410070 val_acc 0.960000\n",
      "iteration 9700 / 15000: loss 2.448580 val_acc 0.959600\n",
      "iteration 9800 / 15000: loss 2.307571 val_acc 0.959900\n",
      "iteration 9900 / 15000: loss 2.373462 val_acc 0.960100\n",
      "iteration 10000 / 15000: loss 2.264502 val_acc 0.960700\n",
      "iteration 10100 / 15000: loss 2.366464 val_acc 0.960400\n",
      "iteration 10200 / 15000: loss 2.283972 val_acc 0.960200\n",
      "iteration 10300 / 15000: loss 2.239367 val_acc 0.960300\n",
      "iteration 10400 / 15000: loss 2.194724 val_acc 0.960700\n",
      "iteration 10500 / 15000: loss 2.315525 val_acc 0.960000\n",
      "iteration 10600 / 15000: loss 2.323741 val_acc 0.960400\n",
      "iteration 10700 / 15000: loss 2.202819 val_acc 0.960600\n",
      "iteration 10800 / 15000: loss 2.375722 val_acc 0.961600\n",
      "iteration 10900 / 15000: loss 2.267408 val_acc 0.961300\n",
      "iteration 11000 / 15000: loss 2.146279 val_acc 0.961400\n",
      "iteration 11100 / 15000: loss 2.304429 val_acc 0.961300\n",
      "iteration 11200 / 15000: loss 2.081546 val_acc 0.962200\n",
      "iteration 11300 / 15000: loss 2.106312 val_acc 0.962000\n",
      "iteration 11400 / 15000: loss 2.074256 val_acc 0.962100\n",
      "iteration 11500 / 15000: loss 2.072510 val_acc 0.962200\n",
      "iteration 11600 / 15000: loss 2.329614 val_acc 0.962900\n",
      "iteration 11700 / 15000: loss 2.012286 val_acc 0.962600\n",
      "iteration 11800 / 15000: loss 1.985433 val_acc 0.962400\n",
      "iteration 11900 / 15000: loss 1.998265 val_acc 0.962700\n",
      "iteration 12000 / 15000: loss 2.022158 val_acc 0.962300\n",
      "iteration 12100 / 15000: loss 1.900248 val_acc 0.963100\n",
      "iteration 12200 / 15000: loss 2.080967 val_acc 0.962400\n",
      "iteration 12300 / 15000: loss 1.926552 val_acc 0.962800\n",
      "iteration 12400 / 15000: loss 1.885180 val_acc 0.962600\n",
      "iteration 12500 / 15000: loss 1.979157 val_acc 0.962400\n",
      "iteration 12600 / 15000: loss 1.878447 val_acc 0.963400\n",
      "iteration 12700 / 15000: loss 1.909368 val_acc 0.963300\n",
      "iteration 12800 / 15000: loss 1.967779 val_acc 0.963000\n",
      "iteration 12900 / 15000: loss 1.918549 val_acc 0.963700\n",
      "iteration 13000 / 15000: loss 2.032176 val_acc 0.964200\n",
      "iteration 13100 / 15000: loss 1.947661 val_acc 0.963400\n",
      "iteration 13200 / 15000: loss 2.140226 val_acc 0.964200\n",
      "iteration 13300 / 15000: loss 1.743397 val_acc 0.963400\n",
      "iteration 13400 / 15000: loss 1.960078 val_acc 0.963500\n",
      "iteration 13500 / 15000: loss 1.777685 val_acc 0.964300\n",
      "iteration 13600 / 15000: loss 1.764708 val_acc 0.963900\n",
      "iteration 13700 / 15000: loss 1.826796 val_acc 0.964000\n",
      "iteration 13800 / 15000: loss 1.869672 val_acc 0.964200\n",
      "iteration 13900 / 15000: loss 1.844467 val_acc 0.964500\n",
      "iteration 14000 / 15000: loss 1.662728 val_acc 0.963600\n",
      "iteration 14100 / 15000: loss 1.650547 val_acc 0.964700\n",
      "iteration 14200 / 15000: loss 1.730545 val_acc 0.963500\n",
      "iteration 14300 / 15000: loss 1.634903 val_acc 0.964000\n",
      "iteration 14400 / 15000: loss 1.793368 val_acc 0.963900\n",
      "iteration 14500 / 15000: loss 1.815523 val_acc 0.964300\n",
      "iteration 14600 / 15000: loss 1.581821 val_acc 0.965000\n",
      "iteration 14700 / 15000: loss 1.663013 val_acc 0.964900\n",
      "iteration 14800 / 15000: loss 1.737981 val_acc 0.964600\n"
     ]
    },
    {
     "name": "stdout",
     "output_type": "stream",
     "text": [
      "iteration 14900 / 15000: loss 1.679507 val_acc 0.965600\n",
      "Validation accuracy:  0.9654\n",
      "Train accuracy:  0.964\n"
     ]
    }
   ],
   "source": [
    "input_size = 28 * 28\n",
    "hidden_size = 200\n",
    "hidden2_size = 200\n",
    "num_classes = 10\n",
    "net = ThreeLayerNet(input_size, hidden_size, hidden2_size, num_classes, std = 0.01, use_Res=False)\n",
    "\n",
    "# Train the network\n",
    "stats = net.train(X_train, y_train, X_val, y_val,\n",
    "            num_iters=15000, batch_size=50,\n",
    "            learning_rate=1e-4, learning_rate_decay=0.99,\n",
    "            reg=0.5, verbose=True)\n",
    "\n",
    "# Predict on the validation set\n",
    "val_acc = (net.predict(X_val) == y_val).mean()\n",
    "train_acc = (net.predict(X_train_small) == y_train_small).mean()\n",
    "print('Validation accuracy: ', val_acc)\n",
    "print('Train accuracy: ', train_acc)"
   ]
  },
  {
   "cell_type": "code",
   "execution_count": 57,
   "metadata": {
    "scrolled": true
   },
   "outputs": [
    {
     "name": "stdout",
     "output_type": "stream",
     "text": [
      "iteration 0 / 15000: loss 25.282472 val_acc 0.154300\n",
      "iteration 100 / 15000: loss 10.031329 val_acc 0.851800\n",
      "iteration 200 / 15000: loss 9.526344 val_acc 0.884200\n",
      "iteration 300 / 15000: loss 9.673745 val_acc 0.898300\n",
      "iteration 400 / 15000: loss 9.133065 val_acc 0.904600\n",
      "iteration 500 / 15000: loss 8.770422 val_acc 0.908700\n",
      "iteration 600 / 15000: loss 8.685816 val_acc 0.919500\n",
      "iteration 700 / 15000: loss 8.663434 val_acc 0.922500\n",
      "iteration 800 / 15000: loss 8.852103 val_acc 0.927700\n",
      "iteration 900 / 15000: loss 9.033688 val_acc 0.929900\n",
      "iteration 1000 / 15000: loss 8.864487 val_acc 0.929600\n",
      "iteration 1100 / 15000: loss 8.748226 val_acc 0.931900\n",
      "iteration 1200 / 15000: loss 8.459251 val_acc 0.935200\n",
      "iteration 1300 / 15000: loss 8.728459 val_acc 0.935500\n",
      "iteration 1400 / 15000: loss 8.577449 val_acc 0.937500\n",
      "iteration 1500 / 15000: loss 8.308660 val_acc 0.940700\n",
      "iteration 1600 / 15000: loss 8.636741 val_acc 0.942100\n",
      "iteration 1700 / 15000: loss 8.197351 val_acc 0.945300\n",
      "iteration 1800 / 15000: loss 8.386265 val_acc 0.944700\n",
      "iteration 1900 / 15000: loss 8.932790 val_acc 0.945300\n",
      "iteration 2000 / 15000: loss 8.213754 val_acc 0.946800\n",
      "iteration 2100 / 15000: loss 8.190666 val_acc 0.946500\n",
      "iteration 2200 / 15000: loss 8.321847 val_acc 0.948900\n",
      "iteration 2300 / 15000: loss 7.999905 val_acc 0.948400\n",
      "iteration 2400 / 15000: loss 8.094016 val_acc 0.949800\n",
      "iteration 2500 / 15000: loss 7.863370 val_acc 0.950000\n",
      "iteration 2600 / 15000: loss 7.994013 val_acc 0.950500\n",
      "iteration 2700 / 15000: loss 7.958330 val_acc 0.952300\n",
      "iteration 2800 / 15000: loss 8.231230 val_acc 0.954000\n",
      "iteration 2900 / 15000: loss 7.762722 val_acc 0.954500\n",
      "iteration 3000 / 15000: loss 7.802182 val_acc 0.953700\n",
      "iteration 3100 / 15000: loss 8.170037 val_acc 0.956100\n",
      "iteration 3200 / 15000: loss 7.754305 val_acc 0.955900\n",
      "iteration 3300 / 15000: loss 7.754558 val_acc 0.955900\n",
      "iteration 3400 / 15000: loss 7.544244 val_acc 0.956400\n",
      "iteration 3500 / 15000: loss 7.585778 val_acc 0.954800\n",
      "iteration 3600 / 15000: loss 7.622657 val_acc 0.956600\n",
      "iteration 3700 / 15000: loss 7.438901 val_acc 0.958100\n",
      "iteration 3800 / 15000: loss 7.423975 val_acc 0.957900\n",
      "iteration 3900 / 15000: loss 7.892033 val_acc 0.957900\n",
      "iteration 4000 / 15000: loss 7.366295 val_acc 0.957200\n",
      "iteration 4100 / 15000: loss 7.502019 val_acc 0.959500\n",
      "iteration 4200 / 15000: loss 7.382733 val_acc 0.958100\n",
      "iteration 4300 / 15000: loss 7.655390 val_acc 0.956700\n",
      "iteration 4400 / 15000: loss 7.374842 val_acc 0.958900\n",
      "iteration 4500 / 15000: loss 7.338528 val_acc 0.960200\n",
      "iteration 4600 / 15000: loss 7.246324 val_acc 0.960200\n",
      "iteration 4700 / 15000: loss 7.092201 val_acc 0.957900\n",
      "iteration 4800 / 15000: loss 7.088365 val_acc 0.960900\n",
      "iteration 4900 / 15000: loss 7.074350 val_acc 0.959900\n",
      "iteration 5000 / 15000: loss 7.116705 val_acc 0.959700\n",
      "iteration 5100 / 15000: loss 7.248755 val_acc 0.958800\n",
      "iteration 5200 / 15000: loss 7.024313 val_acc 0.959200\n",
      "iteration 5300 / 15000: loss 6.926226 val_acc 0.961200\n",
      "iteration 5400 / 15000: loss 6.987829 val_acc 0.962000\n",
      "iteration 5500 / 15000: loss 7.153081 val_acc 0.960000\n",
      "iteration 5600 / 15000: loss 6.893626 val_acc 0.962100\n",
      "iteration 5700 / 15000: loss 6.903615 val_acc 0.962000\n",
      "iteration 5800 / 15000: loss 6.913465 val_acc 0.961600\n",
      "iteration 5900 / 15000: loss 6.942360 val_acc 0.961400\n",
      "iteration 6000 / 15000: loss 6.754444 val_acc 0.961200\n",
      "iteration 6100 / 15000: loss 6.781699 val_acc 0.963700\n",
      "iteration 6200 / 15000: loss 6.769091 val_acc 0.963200\n",
      "iteration 6300 / 15000: loss 6.792233 val_acc 0.962200\n",
      "iteration 6400 / 15000: loss 6.811911 val_acc 0.961500\n",
      "iteration 6500 / 15000: loss 6.831728 val_acc 0.962700\n",
      "iteration 6600 / 15000: loss 6.691856 val_acc 0.963100\n",
      "iteration 6700 / 15000: loss 6.632974 val_acc 0.962500\n",
      "iteration 6800 / 15000: loss 6.628141 val_acc 0.965400\n",
      "iteration 6900 / 15000: loss 6.640361 val_acc 0.963400\n",
      "iteration 7000 / 15000: loss 6.510597 val_acc 0.964000\n",
      "iteration 7100 / 15000: loss 6.479050 val_acc 0.965200\n",
      "iteration 7200 / 15000: loss 6.450459 val_acc 0.965100\n",
      "iteration 7300 / 15000: loss 6.468294 val_acc 0.965300\n",
      "iteration 7400 / 15000: loss 6.423952 val_acc 0.963400\n",
      "iteration 7500 / 15000: loss 6.411620 val_acc 0.966200\n",
      "iteration 7600 / 15000: loss 6.398211 val_acc 0.964000\n",
      "iteration 7700 / 15000: loss 6.446786 val_acc 0.966100\n",
      "iteration 7800 / 15000: loss 6.536958 val_acc 0.966100\n",
      "iteration 7900 / 15000: loss 6.330221 val_acc 0.966700\n",
      "iteration 8000 / 15000: loss 6.385993 val_acc 0.966900\n",
      "iteration 8100 / 15000: loss 6.317273 val_acc 0.966100\n",
      "iteration 8200 / 15000: loss 6.310137 val_acc 0.966200\n",
      "iteration 8300 / 15000: loss 6.250780 val_acc 0.966300\n",
      "iteration 8400 / 15000: loss 6.234403 val_acc 0.966000\n",
      "iteration 8500 / 15000: loss 6.251286 val_acc 0.966900\n",
      "iteration 8600 / 15000: loss 6.408067 val_acc 0.966200\n",
      "iteration 8700 / 15000: loss 6.188392 val_acc 0.965600\n",
      "iteration 8800 / 15000: loss 6.139694 val_acc 0.966200\n",
      "iteration 8900 / 15000: loss 6.355797 val_acc 0.966900\n",
      "iteration 9000 / 15000: loss 6.128087 val_acc 0.965800\n",
      "iteration 9100 / 15000: loss 6.136098 val_acc 0.966200\n",
      "iteration 9200 / 15000: loss 6.299862 val_acc 0.966400\n",
      "iteration 9300 / 15000: loss 6.251731 val_acc 0.965700\n",
      "iteration 9400 / 15000: loss 6.031590 val_acc 0.967400\n",
      "iteration 9500 / 15000: loss 5.968473 val_acc 0.967400\n",
      "iteration 9600 / 15000: loss 5.992139 val_acc 0.967000\n",
      "iteration 9700 / 15000: loss 5.979455 val_acc 0.966300\n",
      "iteration 9800 / 15000: loss 6.019729 val_acc 0.966900\n",
      "iteration 9900 / 15000: loss 5.901962 val_acc 0.967500\n",
      "iteration 10000 / 15000: loss 5.886302 val_acc 0.968100\n",
      "iteration 10100 / 15000: loss 5.938091 val_acc 0.966000\n",
      "iteration 10200 / 15000: loss 6.017416 val_acc 0.967300\n",
      "iteration 10300 / 15000: loss 5.922242 val_acc 0.967900\n",
      "iteration 10400 / 15000: loss 5.876180 val_acc 0.967300\n",
      "iteration 10500 / 15000: loss 5.830529 val_acc 0.967200\n",
      "iteration 10600 / 15000: loss 5.940544 val_acc 0.966800\n",
      "iteration 10700 / 15000: loss 5.760001 val_acc 0.967400\n",
      "iteration 10800 / 15000: loss 5.862304 val_acc 0.967700\n",
      "iteration 10900 / 15000: loss 5.784892 val_acc 0.967600\n",
      "iteration 11000 / 15000: loss 5.738838 val_acc 0.968000\n",
      "iteration 11100 / 15000: loss 5.780210 val_acc 0.965100\n",
      "iteration 11200 / 15000: loss 5.739363 val_acc 0.968200\n",
      "iteration 11300 / 15000: loss 5.782897 val_acc 0.968800\n",
      "iteration 11400 / 15000: loss 5.703428 val_acc 0.967600\n",
      "iteration 11500 / 15000: loss 5.675733 val_acc 0.968300\n",
      "iteration 11600 / 15000: loss 5.677414 val_acc 0.969600\n",
      "iteration 11700 / 15000: loss 5.679717 val_acc 0.968300\n",
      "iteration 11800 / 15000: loss 5.654710 val_acc 0.967900\n",
      "iteration 11900 / 15000: loss 5.698496 val_acc 0.967800\n",
      "iteration 12000 / 15000: loss 5.631490 val_acc 0.968800\n",
      "iteration 12100 / 15000: loss 5.576158 val_acc 0.969600\n",
      "iteration 12200 / 15000: loss 5.563320 val_acc 0.968800\n",
      "iteration 12300 / 15000: loss 5.559783 val_acc 0.968200\n",
      "iteration 12400 / 15000: loss 5.564756 val_acc 0.970100\n",
      "iteration 12500 / 15000: loss 5.560531 val_acc 0.969000\n",
      "iteration 12600 / 15000: loss 5.494725 val_acc 0.969200\n",
      "iteration 12700 / 15000: loss 5.498263 val_acc 0.968100\n",
      "iteration 12800 / 15000: loss 5.495324 val_acc 0.969300\n",
      "iteration 12900 / 15000: loss 5.482770 val_acc 0.968300\n",
      "iteration 13000 / 15000: loss 5.541915 val_acc 0.969300\n",
      "iteration 13100 / 15000: loss 5.496501 val_acc 0.969200\n",
      "iteration 13200 / 15000: loss 5.419870 val_acc 0.969300\n",
      "iteration 13300 / 15000: loss 5.459058 val_acc 0.969600\n",
      "iteration 13400 / 15000: loss 5.421609 val_acc 0.969800\n",
      "iteration 13500 / 15000: loss 5.470878 val_acc 0.968900\n",
      "iteration 13600 / 15000: loss 5.467933 val_acc 0.969100\n",
      "iteration 13700 / 15000: loss 5.464133 val_acc 0.969600\n",
      "iteration 13800 / 15000: loss 5.347329 val_acc 0.969500\n",
      "iteration 13900 / 15000: loss 5.358956 val_acc 0.968600\n",
      "iteration 14000 / 15000: loss 5.372060 val_acc 0.968700\n",
      "iteration 14100 / 15000: loss 5.350638 val_acc 0.970100\n",
      "iteration 14200 / 15000: loss 5.329446 val_acc 0.970200\n",
      "iteration 14300 / 15000: loss 5.357701 val_acc 0.970500\n",
      "iteration 14400 / 15000: loss 5.281383 val_acc 0.970200\n",
      "iteration 14500 / 15000: loss 5.391764 val_acc 0.969200\n",
      "iteration 14600 / 15000: loss 5.279799 val_acc 0.969200\n",
      "iteration 14700 / 15000: loss 5.252439 val_acc 0.969800\n",
      "iteration 14800 / 15000: loss 5.300425 val_acc 0.969800\n"
     ]
    },
    {
     "name": "stdout",
     "output_type": "stream",
     "text": [
      "iteration 14900 / 15000: loss 5.335850 val_acc 0.969000\n",
      "Validation accuracy:  0.9689\n",
      "Train accuracy:  0.988\n"
     ]
    }
   ],
   "source": [
    "input_size = 28 * 28\n",
    "hidden_size = 200\n",
    "hidden2_size = 200\n",
    "num_classes = 10\n",
    "net = ThreeLayerNet(input_size, hidden_size, hidden2_size, num_classes, std = 0.01, use_Res=True)\n",
    "\n",
    "# Train the network\n",
    "stats = net.train(X_train, y_train, X_val, y_val,\n",
    "            num_iters=15000, batch_size=50,\n",
    "            learning_rate=1e-4, learning_rate_decay=0.99,\n",
    "            reg=0.5, verbose=True)\n",
    "\n",
    "# Predict on the validation set\n",
    "val_acc = (net.predict(X_val) == y_val).mean()\n",
    "train_acc = (net.predict(X_train_small) == y_train_small).mean()\n",
    "print('Validation accuracy: ', val_acc)\n",
    "print('Train accuracy: ', train_acc)"
   ]
  },
  {
   "cell_type": "code",
   "execution_count": 58,
   "metadata": {},
   "outputs": [
    {
     "data": {
      "image/png": "[encoded data removed]",
      "text/plain": [
       "<matplotlib.figure.Figure at 0x7f2be81fcb00>"
      ]
     },
     "metadata": {},
     "output_type": "display_data"
    }
   ],
   "source": [
    "# Plot the loss function and train / validation accuracies\n",
    "plt.subplot(2, 1, 1)\n",
    "plt.plot(stats['loss_history'])\n",
    "plt.title('Loss history')\n",
    "plt.xlabel('Iteration')\n",
    "plt.ylabel('Loss')\n",
    "\n",
    "plt.subplot(2, 1, 2)\n",
    "plt.plot(stats['train_acc_history'], label='train')\n",
    "plt.plot(stats['val_acc_history'], label='val')\n",
    "plt.title('Classification accuracy history')\n",
    "plt.xlabel('Epoch')\n",
    "plt.ylabel('Clasification accuracy')\n",
    "plt.show()"
   ]
  },
  {
   "cell_type": "code",
   "execution_count": 59,
   "metadata": {
    "slideshow": {
     "slide_type": "slide"
    }
   },
   "outputs": [
    {
     "name": "stdout",
     "output_type": "stream",
     "text": [
      "Test accuracy:  0.9655\n"
     ]
    }
   ],
   "source": [
    "test_acc = (net.predict(X_test) == y_test).mean()\n",
    "print('Test accuracy: ', test_acc)"
   ]
  },
  {
   "cell_type": "markdown",
   "metadata": {
    "collapsed": true,
    "slideshow": {
     "slide_type": "slide"
    }
   },
   "source": [
    "# Acknowledgment\n",
    "Some of the code and structure is copied from Stanford course [CS231n](https://cs231n.github.io) assignments. Lectured by Fei-Fei Li, Andrej Karpathy, Justion Johnson and Serena Yeung"
   ]
  }
 ],
 "metadata": {
  "kernelspec": {
   "display_name": "Python 3",
   "language": "python",
   "name": "python3"
  },
  "language_info": {
   "codemirror_mode": {
    "name": "ipython",
    "version": 3
   },
   "file_extension": ".py",
   "mimetype": "text/x-python",
   "name": "python",
   "nbconvert_exporter": "python",
   "pygments_lexer": "ipython3",
   "version": "3.6.3"
  },
  "latex_metadata": {
   "affiliation": "Freie Universit\\\"at Berlin, Fachbereich Physik, 14195 Berlin, Germany",
   "author": "Julius C. F. Schulz",
   "title": "Amazing Article"
  }
 },
 "nbformat": 4,
 "nbformat_minor": 2
}
